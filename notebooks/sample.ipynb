{
 "cells": [
  {
   "cell_type": "markdown",
   "id": "87fe701f",
   "metadata": {},
   "source": [
    "### Импорты"
   ]
  },
  {
   "cell_type": "code",
   "execution_count": null,
   "id": "5ce138d7",
   "metadata": {
    "vscode": {
     "languageId": "plaintext"
    }
   },
   "outputs": [],
   "source": [
    "import sys\n",
    "import os\n",
    "from pathlib import Path\n",
    "path_project = Path(os.getcwd()).parent \n",
    "path_src = path_project / 'src'\n",
    "sys.path.append(str(path_src))\n",
    "sys.path.append(str(path_project))\n",
    "\n",
    "%load_ext autoreload\n",
    "%autoreload 2\n",
    "%config InlineBackend.figure_format = 'svg'"
   ]
  },
  {
   "cell_type": "code",
   "execution_count": null,
   "id": "23e07f28",
   "metadata": {
    "vscode": {
     "languageId": "plaintext"
    }
   },
   "outputs": [],
   "source": [
    "import json\n",
    "import logging\n",
    "import json\n",
    "from pathlib import Path\n",
    "import re\n",
    "from copy import deepcopy\n",
    "import random\n",
    "import time\n",
    "\n",
    "from urllib.parse import urlparse\n",
    "import warnings\n",
    "warnings.simplefilter(\"ignore\")\n",
    "\n",
    "import pandas as pd\n",
    "random.seed(42)"
   ]
  },
  {
   "cell_type": "code",
   "execution_count": null,
   "id": "dfda5b3f",
   "metadata": {
    "vscode": {
     "languageId": "plaintext"
    }
   },
   "outputs": [],
   "source": [
    "logging.basicConfig(\n",
    "\tlevel=logging.INFO,\n",
    "\tformat='%(asctime)s – [%(levelname)s] %(name)s: %(message)s',\n",
    "\tdatefmt='%H:%M:%S'\n",
    ")\n",
    "logger = logging.getLogger(__name__)"
   ]
  }
 ],
 "metadata": {
  "language_info": {
   "name": "python"
  }
 },
 "nbformat": 4,
 "nbformat_minor": 5
}
